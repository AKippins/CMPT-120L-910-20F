{
 "metadata": {
  "language_info": {
   "codemirror_mode": {
    "name": "ipython",
    "version": 3
   },
   "file_extension": ".py",
   "mimetype": "text/x-python",
   "name": "python",
   "nbconvert_exporter": "python",
   "pygments_lexer": "ipython3",
   "version": "3.8.5-final"
  },
  "orig_nbformat": 2,
  "kernelspec": {
   "name": "python_defaultSpec_1598809952357",
   "display_name": "Python 3.8.5 64-bit"
  }
 },
 "nbformat": 4,
 "nbformat_minor": 2,
 "cells": [
  {
   "cell_type": "markdown",
   "metadata": {},
   "source": [
    "# Introduction to Programming\n",
    "\n",
    "Topics for today will include:\n",
    "- Variables(Assignment Statements) \n",
    "- Simple Input\n",
    "- Values & Types\n",
    "- Type Conversion\n",
    "- Arithmetic\n",
    "\n",
    "### Variables (Assignment Statements)\n",
    "---\n",
    "Variables are going to be our bread and butter in a lot of scenarios. Similar to in math Variables can hold significant information.\n",
    "\n",
    "Also similar to using them in math, the name of the variable goes on the left and then there's an assign statement which is `=`, then on the right side of the variable comes what the variable is supposed to represent. What's different is that our variables in the programming world can hold much more than numbers.\n",
    "\n",
    "_*It's super important that you remember that the assign symbol is a SINGLE `=`, as we move on there will be other symbols that use more than one equals signs or a combination of symbols_"
   ]
  },
  {
   "cell_type": "code",
   "execution_count": 2,
   "metadata": {},
   "outputs": [],
   "source": [
    "# Variable example goes here. \n",
    "# Strings\n",
    "# Integers(Numbers)\n",
    "# Floats, Doubles, Longs\n",
    "# Booleans\n",
    "# Lists"
   ]
  },
  {
   "cell_type": "markdown",
   "metadata": {},
   "source": [
    "We will use variables often so getting comfortable with using them would be wise. "
   ]
  },
  {
   "cell_type": "markdown",
   "metadata": {},
   "source": [
    "### Simple Input\n",
    "---\n",
    "So we'll often want to take in input from the user. This is done fairly simply in a basic sense. There are more complex and intricate ways to do this as well. Those will be discussed at a different time. \n",
    "\n",
    "For now we can use the scenario of looking to take in the users name. "
   ]
  },
  {
   "cell_type": "code",
   "execution_count": null,
   "metadata": {},
   "outputs": [],
   "source": [
    "# Variable example goes here. \n",
    "# Strings\n",
    "# Integers(Numbers)\n",
    "# Floats, Doubles, Longs\n",
    "# Booleans\n",
    "# Lists\n",
    "print(\"The type of ___ is \",type())"
   ]
  }
 ]
}