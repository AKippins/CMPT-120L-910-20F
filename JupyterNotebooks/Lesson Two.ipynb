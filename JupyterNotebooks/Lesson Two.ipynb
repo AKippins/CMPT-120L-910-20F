{
 "metadata": {
  "language_info": {
   "codemirror_mode": {
    "name": "ipython",
    "version": 3
   },
   "file_extension": ".py",
   "mimetype": "text/x-python",
   "name": "python",
   "nbconvert_exporter": "python",
   "pygments_lexer": "ipython3",
   "version": "3.8.5-final"
  },
  "orig_nbformat": 2,
  "kernelspec": {
   "name": "python_defaultSpec_1598809952357",
   "display_name": "Python 3.8.5 64-bit"
  }
 },
 "nbformat": 4,
 "nbformat_minor": 2,
 "cells": [
  {
   "cell_type": "markdown",
   "metadata": {},
   "source": [
    "# Introduction to Programming\n",
    "\n",
    "Topics for today will include:\n",
    "- Variables(Assignment Statements) \n",
    "- Simple Input\n",
    "- Values & Types\n",
    "- Type Conversion\n",
    "- Arithmetic\n",
    "\n",
    "## Variables (Assignment Statements)\n",
    "---\n",
    "Variables are going to be our bread and butter in a lot of scenarios. Similar to in math Variables can hold significant information.\n",
    "\n",
    "Also similar to using them in math, the name of the variable goes on the left and then there's an assign statement which is `=`, then on the right side of the variable comes what the variable is supposed to represent. What's different is that our variables in the programming world can hold much more than numbers.\n",
    "\n",
    "_*It's super important that you remember that the assign symbol is a SINGLE `=`, as we move on there will be other symbols that use more than one equals signs or a combination of symbols_\n",
    "\n",
    "So to do something like this we'd just use what we've discussed up to this point. We need a variable name on the left. Then an expression on the right. \n",
    "`variable = \"Some value\"`\n",
    "\n",
    "Knowing how to do this is crutial.\n",
    "\n",
    "Below is an example:"
   ]
  },
  {
   "cell_type": "code",
   "execution_count": 2,
   "metadata": {},
   "outputs": [],
   "source": [
    "# Variable example goes here. \n",
    "# Strings\n",
    "# Integers(Numbers)\n",
    "# Floats, Doubles, Longs\n",
    "# Booleans\n",
    "# Lists"
   ]
  },
  {
   "cell_type": "markdown",
   "metadata": {},
   "source": [
    "We will use variables often so getting comfortable with using them would be wise. Next up we can talk about getting some input from a user."
   ]
  },
  {
   "cell_type": "markdown",
   "metadata": {},
   "source": [
    "## Simple Input\n",
    "---\n",
    "We'll often want to take in input from the user. This is done fairly simply in a basic sense. There are more complex and intricate ways to do this as well. Those will be discussed at a different time. \n",
    "\n",
    "Why this is important right now is because we need to remember that a user will have to interact with what we're doing in some way shape or form. In most instances we can simulate this but for the purpose of transparancy we'll go over it.\n",
    "\n",
    "For now we can use the scenario of looking to take in the users name. To do this in a simple way we can use the `input()` function. Now we haven't discussed functions at length yet but we'll get there. \n",
    "\n",
    "For now what we need to know is that input can take in a `string` and that string can be what question that we want to ask the user. That can come in the form like so.\n",
    "```\n",
    "input('Hey there, what is your name?')\n",
    "```"
   ]
  },
  {
   "cell_type": "markdown",
   "metadata": {},
   "source": [
    "## Values and Types\n",
    "---\n",
    "This section is going to revisit something that we saw above. So i went through a bunch of ways to define different variables above. There are a bunch of different data types and those data types have built in functions that are available to them. \n",
    "\n",
    "### Strings\n",
    "---\n",
    "Strings are our primary ways to send messages. Started with either `'' or \"\"` quotes surround strings and they can't be mismatched. There are instances where you need to use quotes inside of quotes and that's done using an escape character. That escape character is `\\`. Now if you open with one the other can be use freely. For example:\n",
    "```\n",
    "'This is a string.'\n",
    "\"This is also a string.\"\n",
    "'She said, \"This is a string\"'\n",
    "\"That's a nice string that you have there.\n",
    "```\n",
    "These are all valid strings.\n",
    "\n",
    "### Integers(Numbers) & Longs\n",
    "---\n",
    "Integers are our prime representation of numbers. These are fairly simple and are probably the easiest to pickup. The difference between Integers and Longs in a simplistic sense is that ints are only numbers that persist under the possible numbers in the range from `-2^31 - 2^31` so about negative 2 billion to positive 2 billion. Longs are numbers outside that range. So that'd be `-2^63 - 2^63`. This isn't something that you have to handle in Python but is good to know about. \n",
    "```\n",
    "10\n",
    "2020\n",
    "1000000001\n",
    "```\n",
    "These are all examples of valid numbers. \n",
    "\n",
    "### Floats & Doubles \n",
    "---\n",
    "Floats and Doubles are just ways to represent decimals. They have the same trope as the integers and the longs. 32bit vs 64bit.\n",
    "\n",
    "\n",
    "### Booleans\n",
    "---\n",
    "\n",
    "\n",
    "### Lists\n",
    "---\n"
   ]
  },
  {
   "cell_type": "code",
   "execution_count": null,
   "metadata": {},
   "outputs": [],
   "source": [
    "# Variable example goes here. \n",
    "# Strings\n",
    "# Integers(Numbers)\n",
    "# Floats, Doubles, Longs\n",
    "# Booleans\n",
    "# Lists\n",
    "print(\"The type of ___ is \",type())"
   ]
  }
 ]
}