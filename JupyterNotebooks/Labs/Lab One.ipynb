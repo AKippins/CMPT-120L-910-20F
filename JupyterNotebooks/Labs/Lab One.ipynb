{
 "cells": [
  {
   "cell_type": "markdown",
   "metadata": {},
   "source": [
    "# Lab One\n",
    "---\n",
    "\n",
    "Ok for this lab we're going to reiterate a lot of the things that we went over in class.\n",
    "\n",
    "Our Goals are:\n",
    "- Defining variables\n",
    "- Using math\n",
    "- Manipulating variables\n",
    "- Changing data types\n",
    "- Playing with lists"
   ]
  },
  {
   "cell_type": "code",
   "execution_count": null,
   "metadata": {},
   "outputs": [],
   "source": [
    "# Define 4 variables, one of each type listed: [Integer, String, Boolean, Float]. Print all 4.\n",
    "\n",
    "#int\n",
    "height=64\n",
    "#string \n",
    "how_tall=\"How many inches is Kacey?\"\n",
    "#boolean\n",
    "this_tall=False\n",
    "#float\n",
    "real_height=64.5\n",
    "\n",
    "print(how_tall)\n",
    "print(height)\n",
    "\n",
    "if height:\n",
    "    print(this_tall)\n",
    "    print(how_tall)\n",
    "    print(real_height)\n",
    "else: \n",
    "    print(\"okay\")\n",
    "\n"
   ]
  },
  {
   "cell_type": "code",
   "execution_count": null,
   "metadata": {},
   "outputs": [],
   "source": [
    "# With whatever variables you'd like demonstrate the following: [Addition, Subtraction, Division, Multiplication, Modulo]. Print all 5.\n",
    "\n",
    "birds = 7 \n",
    "worms = 15 \n",
    "\n",
    "print(birds + worms)\n",
    "print(birds - worms)\n",
    "print(birds / worms)\n",
    "print(birds * worms)\n",
    "print(birds % worms)\n",
    "\n"
   ]
  },
  {
   "cell_type": "code",
   "execution_count": null,
   "metadata": {},
   "outputs": [],
   "source": [
    "# Using 2 variables and addition print the number 57\n",
    "\n",
    "food = 39 \n",
    "drinks=18\n",
    "\n",
    "print(food+drinks)\n"
   ]
  },
  {
   "cell_type": "code",
   "execution_count": null,
   "metadata": {
    "tags": []
   },
   "outputs": [],
   "source": [
    "# Change this variable to a string and print\n",
    "number_into_string = 37\n",
    "number_into_stringg = str(number_into_string)\n",
    "\n",
    "print(number_into_stringg)\n",
    "print(type(number_into_stringg))\n",
    "\n",
    "\n",
    "# Change this variable to a integer and print\n",
    "string_into_number = '10'\n",
    "string_into_numberr = int(string_into_number)\n",
    "\n",
    "print(string_into_numberr)\n",
    "print(type(string_into_numberr))\n",
    "\n",
    "\n",
    "# Change this variable to a float and print\n",
    "string_into_float = '299.99'\n",
    "string_into_floatt = float(string_into_float)\n",
    "print(string_into_floatt)\n",
    "print(type(string_into_floatt))\n",
    "\n",
    "\n",
    "# Change this variable to a boolean and print\n",
    "number_into_boolean = 37\n",
    "number_into_boolean = True \n",
    "\n",
    "print(number_into_boolean)\n",
    "print(type(number_into_boolean))\n",
    "\n",
    "\n",
    "#CHECK ALL OF THESE & DO THE LAST ONE\n"
   ]
  },
  {
   "cell_type": "code",
   "execution_count": null,
   "metadata": {},
   "outputs": [],
   "source": [
    "# Make me a list of any type\n",
    "\n",
    "names = [\"Rick \", \"Doug\", \"Jeff\", \"Ryan\"]\n",
    "print(names)\n",
    "\n"
   ]
  },
  {
   "cell_type": "code",
   "execution_count": null,
   "metadata": {},
   "outputs": [],
   "source": []
  },
  {
   "cell_type": "code",
   "execution_count": null,
   "metadata": {},
   "outputs": [],
   "source": []
  },
  {
   "cell_type": "code",
   "execution_count": null,
   "metadata": {},
   "outputs": [],
   "source": []
  },
  {
   "cell_type": "code",
   "execution_count": null,
   "metadata": {},
   "outputs": [],
   "source": []
  }
 ],
 "metadata": {
  "kernelspec": {
   "display_name": "Python 3",
   "language": "python",
   "name": "python3"
  },
  "language_info": {
   "codemirror_mode": {
    "name": "ipython",
    "version": 3
   },
   "file_extension": ".py",
   "mimetype": "text/x-python",
   "name": "python",
   "nbconvert_exporter": "python",
   "pygments_lexer": "ipython3",
   "version": "3.8.5"
  }
 },
 "nbformat": 4,
 "nbformat_minor": 4
}
