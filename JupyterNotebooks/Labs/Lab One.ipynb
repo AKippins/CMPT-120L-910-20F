{
 "metadata": {
  "language_info": {
   "codemirror_mode": {
    "name": "ipython",
    "version": 3
   },
   "file_extension": ".py",
   "mimetype": "text/x-python",
   "name": "python",
   "nbconvert_exporter": "python",
   "pygments_lexer": "ipython3",
   "version": "3.8.3-final"
  },
  "orig_nbformat": 2,
  "kernelspec": {
   "name": "python_defaultSpec_1599086634292",
   "display_name": "Python 3.6.10 64-bit"
  }
 },
 "nbformat": 4,
 "nbformat_minor": 2,
 "cells": [
  {
   "cell_type": "markdown",
   "metadata": {},
   "source": [
    "# Lab One\n",
    "---\n",
    "\n",
    "Ok for this lab we're going to reiterate a lot of the things that we went over in class.\n",
    "\n",
    "Our Goals are:\n",
    "- Defining variables\n",
    "- Using math\n",
    "- Manipulating variables\n",
    "- Changing data types\n",
    "- Playing with lists"
   ]
  },
  {
   "cell_type": "code",
   "execution_count": 7,
   "metadata": {
    "tags": []
   },
   "outputs": [
    {
     "output_type": "stream",
     "name": "stdout",
     "text": "47\nNoah\nTrue\n89.8\n"
    }
   ],
   "source": [
    "# Define 4 variables, one of each type listed: [Integer, String, Boolean, Float]. Print all 4.\n",
    "\n",
    "#Integer\n",
    "age = 18\n",
    "#String\n",
    "name = \"Noah\"\n",
    "#Boolean\n",
    "is_taken = True\n",
    "#Float\n",
    "average = 89.8\n",
    "\n",
    "print(algebra)\n",
    "print(name)\n",
    "print(adult)\n",
    "print(average)\n",
    "\n"
   ]
  },
  {
   "cell_type": "code",
   "execution_count": 11,
   "metadata": {
    "tags": []
   },
   "outputs": [],
   "source": [
    "# With whatever variables you'd like demonstrate the following: [Addition, Subtraction, Division, Multiplication, Modulo]. Print all 5.\n",
    "\n",
    "add = 49 + 50\n",
    "sub = 49 - 50\n",
    "mult = 49 * 50\n",
    "div = 49 / 50\n",
    "mod = 49 % 50\n",
    "\n",
    "print(add)\n",
    "print(sub)\n",
    "print(mult)\n",
    "print(div)\n",
    "print(mod)\n"
   ]
  },
  {
   "cell_type": "code",
   "execution_count": 10,
   "metadata": {
    "tags": []
   },
   "outputs": [
    {
     "output_type": "stream",
     "name": "stdout",
     "text": "57\n"
    }
   ],
   "source": [
    "# Using 2 variables and addition print the number 57\n",
    "\n",
    "ace = 25\n",
    "blake = 32\n",
    "\n",
    "print(ace + blake)"
   ]
  },
  {
   "cell_type": "code",
   "execution_count": 12,
   "metadata": {
    "tags": []
   },
   "outputs": [],
   "source": [
    "# Change this variable to a string and print\n",
    "number_into_string = \"37\"\n",
    "print(number_into_string)\n",
    "# Change this variable to a integer and print\n",
    "string_into_number = 10\n",
    "print(string_into_number)\n",
    "# Change this variable to a float and print\n",
    "string_into_float = 299.99\n",
    "print(string_into_float)\n",
    "# Change this variable to a boolean and print\n",
    "number_into_boolean = 37\n"
   ]
  },
  {
   "cell_type": "code",
   "execution_count": null,
   "metadata": {},
   "outputs": [],
   "source": [
    "# Make me a list of any type"
   ]
  }
 ]
}